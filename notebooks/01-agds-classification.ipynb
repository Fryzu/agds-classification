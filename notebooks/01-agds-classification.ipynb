{
 "metadata": {
  "language_info": {
   "codemirror_mode": {
    "name": "ipython",
    "version": 3
   },
   "file_extension": ".py",
   "mimetype": "text/x-python",
   "name": "python",
   "nbconvert_exporter": "python",
   "pygments_lexer": "ipython3",
   "version": "3.7.7"
  },
  "orig_nbformat": 2,
  "kernelspec": {
   "name": "python377jvsc74a57bd0f7083fe511133daffeb49be461125359fe7d6b3c2688ba4e67215bcacd5aa8a4",
   "display_name": "Python 3.7.7 64-bit ('CI': conda)"
  }
 },
 "nbformat": 4,
 "nbformat_minor": 2,
 "cells": [
  {
   "cell_type": "code",
   "execution_count": 1,
   "metadata": {},
   "outputs": [],
   "source": [
    "import sys\n",
    "sys.path.append('../AGDS/')\n",
    "%load_ext autoreload\n",
    "%autoreload 2"
   ]
  },
  {
   "source": [
    "## AGDS classification\n"
   ],
   "cell_type": "markdown",
   "metadata": {}
  },
  {
   "cell_type": "code",
   "execution_count": 2,
   "metadata": {},
   "outputs": [],
   "source": [
    "import pandas as pd\n",
    "\n",
    "base_path = os.path.dirname(os.getcwd())\n",
    "path = os.path.join(base_path, \"data\", \"fetal_health.csv\")\n",
    "df = pd.read_csv(path)\n",
    "df['id'] = df.index"
   ]
  },
  {
   "source": [
    "We want to use the AGDS graph to solve classification problem for the fetal health problem from keggle.com https://www.kaggle.com/andrewmvd/fetal-health-classification."
   ],
   "cell_type": "markdown",
   "metadata": {}
  },
  {
   "cell_type": "code",
   "execution_count": 3,
   "metadata": {},
   "outputs": [
    {
     "output_type": "execute_result",
     "data": {
      "text/plain": [
       "   baseline value  accelerations  fetal_movement  uterine_contractions  \\\n",
       "0           120.0          0.000             0.0                 0.000   \n",
       "1           132.0          0.006             0.0                 0.006   \n",
       "2           133.0          0.003             0.0                 0.008   \n",
       "3           134.0          0.003             0.0                 0.008   \n",
       "4           132.0          0.007             0.0                 0.008   \n",
       "\n",
       "   light_decelerations  severe_decelerations  prolongued_decelerations  \\\n",
       "0                0.000                   0.0                       0.0   \n",
       "1                0.003                   0.0                       0.0   \n",
       "2                0.003                   0.0                       0.0   \n",
       "3                0.003                   0.0                       0.0   \n",
       "4                0.000                   0.0                       0.0   \n",
       "\n",
       "   abnormal_short_term_variability  mean_value_of_short_term_variability  \\\n",
       "0                             73.0                                   0.5   \n",
       "1                             17.0                                   2.1   \n",
       "2                             16.0                                   2.1   \n",
       "3                             16.0                                   2.4   \n",
       "4                             16.0                                   2.4   \n",
       "\n",
       "   percentage_of_time_with_abnormal_long_term_variability  ...  histogram_max  \\\n",
       "0                                               43.0       ...          126.0   \n",
       "1                                                0.0       ...          198.0   \n",
       "2                                                0.0       ...          198.0   \n",
       "3                                                0.0       ...          170.0   \n",
       "4                                                0.0       ...          170.0   \n",
       "\n",
       "   histogram_number_of_peaks  histogram_number_of_zeroes  histogram_mode  \\\n",
       "0                        2.0                         0.0           120.0   \n",
       "1                        6.0                         1.0           141.0   \n",
       "2                        5.0                         1.0           141.0   \n",
       "3                       11.0                         0.0           137.0   \n",
       "4                        9.0                         0.0           137.0   \n",
       "\n",
       "   histogram_mean  histogram_median  histogram_variance  histogram_tendency  \\\n",
       "0           137.0             121.0                73.0                 1.0   \n",
       "1           136.0             140.0                12.0                 0.0   \n",
       "2           135.0             138.0                13.0                 0.0   \n",
       "3           134.0             137.0                13.0                 1.0   \n",
       "4           136.0             138.0                11.0                 1.0   \n",
       "\n",
       "   fetal_health  id  \n",
       "0           2.0   0  \n",
       "1           1.0   1  \n",
       "2           1.0   2  \n",
       "3           1.0   3  \n",
       "4           1.0   4  \n",
       "\n",
       "[5 rows x 23 columns]"
      ],
      "text/html": "<div>\n<style scoped>\n    .dataframe tbody tr th:only-of-type {\n        vertical-align: middle;\n    }\n\n    .dataframe tbody tr th {\n        vertical-align: top;\n    }\n\n    .dataframe thead th {\n        text-align: right;\n    }\n</style>\n<table border=\"1\" class=\"dataframe\">\n  <thead>\n    <tr style=\"text-align: right;\">\n      <th></th>\n      <th>baseline value</th>\n      <th>accelerations</th>\n      <th>fetal_movement</th>\n      <th>uterine_contractions</th>\n      <th>light_decelerations</th>\n      <th>severe_decelerations</th>\n      <th>prolongued_decelerations</th>\n      <th>abnormal_short_term_variability</th>\n      <th>mean_value_of_short_term_variability</th>\n      <th>percentage_of_time_with_abnormal_long_term_variability</th>\n      <th>...</th>\n      <th>histogram_max</th>\n      <th>histogram_number_of_peaks</th>\n      <th>histogram_number_of_zeroes</th>\n      <th>histogram_mode</th>\n      <th>histogram_mean</th>\n      <th>histogram_median</th>\n      <th>histogram_variance</th>\n      <th>histogram_tendency</th>\n      <th>fetal_health</th>\n      <th>id</th>\n    </tr>\n  </thead>\n  <tbody>\n    <tr>\n      <th>0</th>\n      <td>120.0</td>\n      <td>0.000</td>\n      <td>0.0</td>\n      <td>0.000</td>\n      <td>0.000</td>\n      <td>0.0</td>\n      <td>0.0</td>\n      <td>73.0</td>\n      <td>0.5</td>\n      <td>43.0</td>\n      <td>...</td>\n      <td>126.0</td>\n      <td>2.0</td>\n      <td>0.0</td>\n      <td>120.0</td>\n      <td>137.0</td>\n      <td>121.0</td>\n      <td>73.0</td>\n      <td>1.0</td>\n      <td>2.0</td>\n      <td>0</td>\n    </tr>\n    <tr>\n      <th>1</th>\n      <td>132.0</td>\n      <td>0.006</td>\n      <td>0.0</td>\n      <td>0.006</td>\n      <td>0.003</td>\n      <td>0.0</td>\n      <td>0.0</td>\n      <td>17.0</td>\n      <td>2.1</td>\n      <td>0.0</td>\n      <td>...</td>\n      <td>198.0</td>\n      <td>6.0</td>\n      <td>1.0</td>\n      <td>141.0</td>\n      <td>136.0</td>\n      <td>140.0</td>\n      <td>12.0</td>\n      <td>0.0</td>\n      <td>1.0</td>\n      <td>1</td>\n    </tr>\n    <tr>\n      <th>2</th>\n      <td>133.0</td>\n      <td>0.003</td>\n      <td>0.0</td>\n      <td>0.008</td>\n      <td>0.003</td>\n      <td>0.0</td>\n      <td>0.0</td>\n      <td>16.0</td>\n      <td>2.1</td>\n      <td>0.0</td>\n      <td>...</td>\n      <td>198.0</td>\n      <td>5.0</td>\n      <td>1.0</td>\n      <td>141.0</td>\n      <td>135.0</td>\n      <td>138.0</td>\n      <td>13.0</td>\n      <td>0.0</td>\n      <td>1.0</td>\n      <td>2</td>\n    </tr>\n    <tr>\n      <th>3</th>\n      <td>134.0</td>\n      <td>0.003</td>\n      <td>0.0</td>\n      <td>0.008</td>\n      <td>0.003</td>\n      <td>0.0</td>\n      <td>0.0</td>\n      <td>16.0</td>\n      <td>2.4</td>\n      <td>0.0</td>\n      <td>...</td>\n      <td>170.0</td>\n      <td>11.0</td>\n      <td>0.0</td>\n      <td>137.0</td>\n      <td>134.0</td>\n      <td>137.0</td>\n      <td>13.0</td>\n      <td>1.0</td>\n      <td>1.0</td>\n      <td>3</td>\n    </tr>\n    <tr>\n      <th>4</th>\n      <td>132.0</td>\n      <td>0.007</td>\n      <td>0.0</td>\n      <td>0.008</td>\n      <td>0.000</td>\n      <td>0.0</td>\n      <td>0.0</td>\n      <td>16.0</td>\n      <td>2.4</td>\n      <td>0.0</td>\n      <td>...</td>\n      <td>170.0</td>\n      <td>9.0</td>\n      <td>0.0</td>\n      <td>137.0</td>\n      <td>136.0</td>\n      <td>138.0</td>\n      <td>11.0</td>\n      <td>1.0</td>\n      <td>1.0</td>\n      <td>4</td>\n    </tr>\n  </tbody>\n</table>\n<p>5 rows × 23 columns</p>\n</div>"
     },
     "metadata": {},
     "execution_count": 3
    }
   ],
   "source": [
    "df.head()"
   ]
  },
  {
   "source": [
    "We need to first create AGDS from the dataset and then extract attributes of one element to test the algorithm."
   ],
   "cell_type": "markdown",
   "metadata": {}
  },
  {
   "cell_type": "code",
   "execution_count": 4,
   "metadata": {},
   "outputs": [],
   "source": [
    "from AGDS.AssociativeGraph import AssociativeGraph\n",
    "\n",
    "graph = AssociativeGraph(df)"
   ]
  },
  {
   "cell_type": "code",
   "execution_count": 5,
   "metadata": {},
   "outputs": [
    {
     "output_type": "stream",
     "name": "stderr",
     "text": [
      "100%|██████████| 21/21 [01:10<00:00,  3.34s/it]\n"
     ]
    }
   ],
   "source": [
    "df_no_class = df.drop(columns=[\"fetal_health\", \"id\"])\n",
    "\n",
    "test_input = df_no_class.to_dict(orient='records')[0]\n",
    "\n",
    "classification_result = graph.classify(test_input)"
   ]
  },
  {
   "source": [
    "The most matching element should have the highest value of the `classification_result`."
   ],
   "cell_type": "markdown",
   "metadata": {}
  },
  {
   "cell_type": "code",
   "execution_count": 19,
   "metadata": {
    "tags": []
   },
   "outputs": [
    {
     "output_type": "stream",
     "name": "stdout",
     "text": [
      "[-32118754157765494, -860410414806918172, 2355432293685762827, 6844963699741317367, 6033595897684694749, 3966954806466344445, 2662751406301729515, 8592864959870243418, 1368180812939112544, -4746707473343983698, -1026975558519247277, -1955135718959403468, 6605605026518175028, -7688085820488143953, 319647198111615486, -4426922025601841268, 5830115046247917107, 6072291680746202208, -6756909837312671016, 8434764566194233921, -7311392135855521490, '0', '1185', '7', '201', '461', '8', '1507', '1184', '253', '234', '231', '233', '767', '207', '818', '1218', '324', '534', '323']\n"
     ]
    }
   ],
   "source": [
    "inference_result_list = list(classification_result.keys())\n",
    "inference_result_list.reverse()\n",
    "print(inference_result_list[0:40])"
   ]
  },
  {
   "source": [
    "As you can see the first items are calculated hash of object attributes that have been provided to algorithm with the inference value of 1. The first id of element with the biggest inference value is `0`. Its exepected result because the used classification parameters were extracted from the `0` item. The next similar entity is object `7`."
   ],
   "cell_type": "markdown",
   "metadata": {}
  },
  {
   "cell_type": "code",
   "execution_count": 23,
   "metadata": {},
   "outputs": [
    {
     "output_type": "execute_result",
     "data": {
      "text/plain": [
       "   baseline value  accelerations  fetal_movement  uterine_contractions  \\\n",
       "0           120.0          0.000             0.0                 0.000   \n",
       "1           132.0          0.006             0.0                 0.006   \n",
       "2           133.0          0.003             0.0                 0.008   \n",
       "3           134.0          0.003             0.0                 0.008   \n",
       "4           132.0          0.007             0.0                 0.008   \n",
       "5           134.0          0.001             0.0                 0.010   \n",
       "6           134.0          0.001             0.0                 0.013   \n",
       "7           122.0          0.000             0.0                 0.000   \n",
       "\n",
       "   light_decelerations  severe_decelerations  prolongued_decelerations  \\\n",
       "0                0.000                   0.0                     0.000   \n",
       "1                0.003                   0.0                     0.000   \n",
       "2                0.003                   0.0                     0.000   \n",
       "3                0.003                   0.0                     0.000   \n",
       "4                0.000                   0.0                     0.000   \n",
       "5                0.009                   0.0                     0.002   \n",
       "6                0.008                   0.0                     0.003   \n",
       "7                0.000                   0.0                     0.000   \n",
       "\n",
       "   abnormal_short_term_variability  mean_value_of_short_term_variability  \\\n",
       "0                             73.0                                   0.5   \n",
       "1                             17.0                                   2.1   \n",
       "2                             16.0                                   2.1   \n",
       "3                             16.0                                   2.4   \n",
       "4                             16.0                                   2.4   \n",
       "5                             26.0                                   5.9   \n",
       "6                             29.0                                   6.3   \n",
       "7                             83.0                                   0.5   \n",
       "\n",
       "   percentage_of_time_with_abnormal_long_term_variability  ...  histogram_max  \\\n",
       "0                                               43.0       ...          126.0   \n",
       "1                                                0.0       ...          198.0   \n",
       "2                                                0.0       ...          198.0   \n",
       "3                                                0.0       ...          170.0   \n",
       "4                                                0.0       ...          170.0   \n",
       "5                                                0.0       ...          200.0   \n",
       "6                                                0.0       ...          200.0   \n",
       "7                                                6.0       ...          130.0   \n",
       "\n",
       "   histogram_number_of_peaks  histogram_number_of_zeroes  histogram_mode  \\\n",
       "0                        2.0                         0.0           120.0   \n",
       "1                        6.0                         1.0           141.0   \n",
       "2                        5.0                         1.0           141.0   \n",
       "3                       11.0                         0.0           137.0   \n",
       "4                        9.0                         0.0           137.0   \n",
       "5                        5.0                         3.0            76.0   \n",
       "6                        6.0                         3.0            71.0   \n",
       "7                        0.0                         0.0           122.0   \n",
       "\n",
       "   histogram_mean  histogram_median  histogram_variance  histogram_tendency  \\\n",
       "0           137.0             121.0                73.0                 1.0   \n",
       "1           136.0             140.0                12.0                 0.0   \n",
       "2           135.0             138.0                13.0                 0.0   \n",
       "3           134.0             137.0                13.0                 1.0   \n",
       "4           136.0             138.0                11.0                 1.0   \n",
       "5           107.0             107.0               170.0                 0.0   \n",
       "6           107.0             106.0               215.0                 0.0   \n",
       "7           122.0             123.0                 3.0                 1.0   \n",
       "\n",
       "   fetal_health  id  \n",
       "0           2.0   0  \n",
       "1           1.0   1  \n",
       "2           1.0   2  \n",
       "3           1.0   3  \n",
       "4           1.0   4  \n",
       "5           3.0   5  \n",
       "6           3.0   6  \n",
       "7           3.0   7  \n",
       "\n",
       "[8 rows x 23 columns]"
      ],
      "text/html": "<div>\n<style scoped>\n    .dataframe tbody tr th:only-of-type {\n        vertical-align: middle;\n    }\n\n    .dataframe tbody tr th {\n        vertical-align: top;\n    }\n\n    .dataframe thead th {\n        text-align: right;\n    }\n</style>\n<table border=\"1\" class=\"dataframe\">\n  <thead>\n    <tr style=\"text-align: right;\">\n      <th></th>\n      <th>baseline value</th>\n      <th>accelerations</th>\n      <th>fetal_movement</th>\n      <th>uterine_contractions</th>\n      <th>light_decelerations</th>\n      <th>severe_decelerations</th>\n      <th>prolongued_decelerations</th>\n      <th>abnormal_short_term_variability</th>\n      <th>mean_value_of_short_term_variability</th>\n      <th>percentage_of_time_with_abnormal_long_term_variability</th>\n      <th>...</th>\n      <th>histogram_max</th>\n      <th>histogram_number_of_peaks</th>\n      <th>histogram_number_of_zeroes</th>\n      <th>histogram_mode</th>\n      <th>histogram_mean</th>\n      <th>histogram_median</th>\n      <th>histogram_variance</th>\n      <th>histogram_tendency</th>\n      <th>fetal_health</th>\n      <th>id</th>\n    </tr>\n  </thead>\n  <tbody>\n    <tr>\n      <th>0</th>\n      <td>120.0</td>\n      <td>0.000</td>\n      <td>0.0</td>\n      <td>0.000</td>\n      <td>0.000</td>\n      <td>0.0</td>\n      <td>0.000</td>\n      <td>73.0</td>\n      <td>0.5</td>\n      <td>43.0</td>\n      <td>...</td>\n      <td>126.0</td>\n      <td>2.0</td>\n      <td>0.0</td>\n      <td>120.0</td>\n      <td>137.0</td>\n      <td>121.0</td>\n      <td>73.0</td>\n      <td>1.0</td>\n      <td>2.0</td>\n      <td>0</td>\n    </tr>\n    <tr>\n      <th>1</th>\n      <td>132.0</td>\n      <td>0.006</td>\n      <td>0.0</td>\n      <td>0.006</td>\n      <td>0.003</td>\n      <td>0.0</td>\n      <td>0.000</td>\n      <td>17.0</td>\n      <td>2.1</td>\n      <td>0.0</td>\n      <td>...</td>\n      <td>198.0</td>\n      <td>6.0</td>\n      <td>1.0</td>\n      <td>141.0</td>\n      <td>136.0</td>\n      <td>140.0</td>\n      <td>12.0</td>\n      <td>0.0</td>\n      <td>1.0</td>\n      <td>1</td>\n    </tr>\n    <tr>\n      <th>2</th>\n      <td>133.0</td>\n      <td>0.003</td>\n      <td>0.0</td>\n      <td>0.008</td>\n      <td>0.003</td>\n      <td>0.0</td>\n      <td>0.000</td>\n      <td>16.0</td>\n      <td>2.1</td>\n      <td>0.0</td>\n      <td>...</td>\n      <td>198.0</td>\n      <td>5.0</td>\n      <td>1.0</td>\n      <td>141.0</td>\n      <td>135.0</td>\n      <td>138.0</td>\n      <td>13.0</td>\n      <td>0.0</td>\n      <td>1.0</td>\n      <td>2</td>\n    </tr>\n    <tr>\n      <th>3</th>\n      <td>134.0</td>\n      <td>0.003</td>\n      <td>0.0</td>\n      <td>0.008</td>\n      <td>0.003</td>\n      <td>0.0</td>\n      <td>0.000</td>\n      <td>16.0</td>\n      <td>2.4</td>\n      <td>0.0</td>\n      <td>...</td>\n      <td>170.0</td>\n      <td>11.0</td>\n      <td>0.0</td>\n      <td>137.0</td>\n      <td>134.0</td>\n      <td>137.0</td>\n      <td>13.0</td>\n      <td>1.0</td>\n      <td>1.0</td>\n      <td>3</td>\n    </tr>\n    <tr>\n      <th>4</th>\n      <td>132.0</td>\n      <td>0.007</td>\n      <td>0.0</td>\n      <td>0.008</td>\n      <td>0.000</td>\n      <td>0.0</td>\n      <td>0.000</td>\n      <td>16.0</td>\n      <td>2.4</td>\n      <td>0.0</td>\n      <td>...</td>\n      <td>170.0</td>\n      <td>9.0</td>\n      <td>0.0</td>\n      <td>137.0</td>\n      <td>136.0</td>\n      <td>138.0</td>\n      <td>11.0</td>\n      <td>1.0</td>\n      <td>1.0</td>\n      <td>4</td>\n    </tr>\n    <tr>\n      <th>5</th>\n      <td>134.0</td>\n      <td>0.001</td>\n      <td>0.0</td>\n      <td>0.010</td>\n      <td>0.009</td>\n      <td>0.0</td>\n      <td>0.002</td>\n      <td>26.0</td>\n      <td>5.9</td>\n      <td>0.0</td>\n      <td>...</td>\n      <td>200.0</td>\n      <td>5.0</td>\n      <td>3.0</td>\n      <td>76.0</td>\n      <td>107.0</td>\n      <td>107.0</td>\n      <td>170.0</td>\n      <td>0.0</td>\n      <td>3.0</td>\n      <td>5</td>\n    </tr>\n    <tr>\n      <th>6</th>\n      <td>134.0</td>\n      <td>0.001</td>\n      <td>0.0</td>\n      <td>0.013</td>\n      <td>0.008</td>\n      <td>0.0</td>\n      <td>0.003</td>\n      <td>29.0</td>\n      <td>6.3</td>\n      <td>0.0</td>\n      <td>...</td>\n      <td>200.0</td>\n      <td>6.0</td>\n      <td>3.0</td>\n      <td>71.0</td>\n      <td>107.0</td>\n      <td>106.0</td>\n      <td>215.0</td>\n      <td>0.0</td>\n      <td>3.0</td>\n      <td>6</td>\n    </tr>\n    <tr>\n      <th>7</th>\n      <td>122.0</td>\n      <td>0.000</td>\n      <td>0.0</td>\n      <td>0.000</td>\n      <td>0.000</td>\n      <td>0.0</td>\n      <td>0.000</td>\n      <td>83.0</td>\n      <td>0.5</td>\n      <td>6.0</td>\n      <td>...</td>\n      <td>130.0</td>\n      <td>0.0</td>\n      <td>0.0</td>\n      <td>122.0</td>\n      <td>122.0</td>\n      <td>123.0</td>\n      <td>3.0</td>\n      <td>1.0</td>\n      <td>3.0</td>\n      <td>7</td>\n    </tr>\n  </tbody>\n</table>\n<p>8 rows × 23 columns</p>\n</div>"
     },
     "metadata": {},
     "execution_count": 23
    }
   ],
   "source": [
    "df.head(n=8)"
   ]
  },
  {
   "source": [
    "You can see the items 0 and 7 are quite similar."
   ],
   "cell_type": "markdown",
   "metadata": {}
  }
 ]
}